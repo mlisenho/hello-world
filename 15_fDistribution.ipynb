{
 "cells": [
  {
   "cell_type": "markdown",
   "metadata": {},
   "source": [
    "# Statistics and Data Analysis\n",
    "\n",
    "# The F-Distribution\n",
    "\n",
    "## Author: Michelle L. Isenhour\n",
    "\n",
    "## Last Updated:  Fall 2018\n",
    "\n",
    "At the conclusion of this Jupyter Notebook, the student will:\n",
    "\n",
    "* Understand the **F probability distribution** and know how to use an F-test to conduct hypothesis tests for **regression analysis**.\n",
    "\n",
    "**Data**: None"
   ]
  },
  {
   "cell_type": "markdown",
   "metadata": {},
   "source": [
    "## F Distribution\n",
    "\n",
    "The **F distribution** arises in connection with a ratio in which there is one number of degrees of freedom associated with the numerator and another number of degrees of freedom associated with the denominator. We will use the **F distribution** to conduct hypothesis tests (aka F-tests) for **regression models**.\n",
    "\n",
    "\n",
    "Here is a graph of a typical F density function:"
   ]
  },
  {
   "cell_type": "code",
   "execution_count": 1,
   "metadata": {},
   "outputs": [],
   "source": [
    "# load packages\n",
    "import numpy as np\n",
    "import pandas as pd\n",
    "import matplotlib.pyplot as plt\n",
    "import scipy.stats as stats\n",
    "import statsmodels.api as sm                  # New\n",
    "import statsmodels.formula.api as smf         # New\n",
    "import os"
   ]
  },
  {
   "cell_type": "code",
   "execution_count": 2,
   "metadata": {},
   "outputs": [
    {
     "data": {
      "image/png": "[encoded data removed]",
      "text/plain": [
       "<Figure size 432x432 with 1 Axes>"
      ]
     },
     "metadata": {
      "needs_background": "light"
     },
     "output_type": "display_data"
    }
   ],
   "source": [
    "# plotting the F distribution\n",
    "fig, ax = plt.subplots(figsize=(6,6))    # Initiate figure and axes\n",
    "dfn = 6                                  # numerator degrees of freedom\n",
    "dfd = 10                                 # denominator degrees of freedom\n",
    "x = np.linspace(0.01,6,100)\n",
    "y = stats.f.pdf(x,dfn,dfd)               # pdf of F distribution with nu1, nu2 as parameters\n",
    "plt.plot(x,y,'r')\n",
    "ax.set_xlim([0,6])\n",
    "ax.set_ylim([0,0.8])\n",
    "ax.set_xlabel('f')\n",
    "ax.set_ylabel('Density')\n",
    "ax.set_title('F Distribution')\n",
    "plt.show()"
   ]
  },
  {
   "cell_type": "markdown",
   "metadata": {},
   "source": [
    "Notice that the density curve is not symmetric and the domain is $(0,\\infty)$. Therefore, a random variable that has an F distribution cannot assume a negative value.\n",
    "\n",
    "The cutoff (or critical values) for an F distribution are found using three parameters: 1) the level of significance, $\\alpha$; 2) the numerator degrees of freedom, $\\nu_1$; and 3) the denominator degrees of freedom, $\\nu_2$.\n",
    "\n",
    "In _Python_, we can use the `stats.f.ppf(p,dfn,dfd)` command to find the critical value."
   ]
  },
  {
   "cell_type": "code",
   "execution_count": 3,
   "metadata": {},
   "outputs": [
    {
     "name": "stdout",
     "output_type": "stream",
     "text": [
      "The f-critical value for a 0.05 significance level with dfn = 6 and dfd = 10 degrees of freedom is: 3.217174547398992\n"
     ]
    }
   ],
   "source": [
    "# F-critical value for a 0.05 signifance level with nu1 = 6 and nu2 = 10\n",
    "alpha = 0.05                     # significance level\n",
    "dfn = 6                          # numerator degrees of freedom\n",
    "dfd = 10                         # denominator degrees of freedom\n",
    "f95 = stats.f.ppf(0.95,dfn,dfd)  # find f-critical (always upper tail)\n",
    "\n",
    "print('The f-critical value for a 0.05 significance level with dfn =',dfn,\n",
    "      'and dfd =',dfd,'degrees of freedom is:',f95)"
   ]
  },
  {
   "cell_type": "markdown",
   "metadata": {},
   "source": [
    "We use $F_{\\alpha,~\\nu_1,~\\nu_2}~$ to represent the value on the horizontal axis that captures in the upper tail. So in our previous example we found $F_{0.05,~6,~10}~=3.2172$.\n",
    "\n",
    "Graphically, it would look like this:"
   ]
  },
  {
   "cell_type": "code",
   "execution_count": 4,
   "metadata": {
    "scrolled": false
   },
   "outputs": [
    {
     "data": {
      "image/png": "[encoded data removed]",
      "text/plain": [
       "<Figure size 432x432 with 1 Axes>"
      ]
     },
     "metadata": {
      "needs_background": "light"
     },
     "output_type": "display_data"
    }
   ],
   "source": [
    "# plotting the F distribution\n",
    "fig, ax = plt.subplots(figsize=(6,6))    # Initiate figure and axes\n",
    "dfn = 6                                  # numerator degrees of freedom\n",
    "dfd = 10                                 # denominator degrees of freedom\n",
    "x = np.linspace(0.01,6,100)\n",
    "y = stats.f.pdf(x,dfn,dfd)               # pdf of F distribution with nu1, nu2 as parameters\n",
    "plt.plot(x,y,'r')\n",
    "# show P(F > f95) on PDF\n",
    "plt.fill_between(x=np.arange(f95,6,0.01), \n",
    "                 y1= stats.f.pdf(np.arange(f95,6,0.01),dfn,dfd) ,\n",
    "                 facecolor='red',\n",
    "                 alpha=0.35)\n",
    "ax.set_xlim([0,6])\n",
    "ax.set_ylim([0,0.8])\n",
    "ax.set_xlabel('f')\n",
    "ax.set_ylabel('Density')\n",
    "ax.set_title('F Distribution')\n",
    "plt.show()"
   ]
  },
  {
   "cell_type": "markdown",
   "metadata": {},
   "source": [
    "## Simple Linear Regression\n",
    "\n",
    "We now return to our **Processing Time Example** :\n",
    "\n",
    "| # Disk I/O | Processor Time |\n",
    "| :-: | :-: |\n",
    "| 14 | 2 |\n",
    "| 16 | 5 |\n",
    "| 27 | 7 |\n",
    "| 42 | 9 |\n",
    "| 39 | 10 |\n",
    "| 50 | 13 |\n",
    "| 83 | 20 |\n",
    "\n",
    "\n",
    "The **dependent variable** ($y$) is CPU Time and the **independent variable** ($x$) is number of disk I/O. In other words, we are trying to determine if the number of disk I/O ($x$) tells us something about CPU processor time ($y$). Thus, $x$ is also referred to as a **predictor variable** and $y$ is referred to as the **response variable**.<br>\n",
    "<br>\n",
    "\n",
    "We want to test the following hypotheses:\n",
    "\n",
    "$$H_0: \\beta_1 = 0 ~~~~~\\textrm{(There is no linear relationship)}$$\n",
    "\n",
    "$$H_a: \\beta_1 \\neq 0 ~~~~~\\textrm{(There is a linear relationship)}$$\n",
    "\n",
    "We begin by \"manually\" computing the Treatment Sum of Squares (SSTr), Treatment Mean Squares (MSTr), Error Sum of Squares (SSE), Error Mean Squares (MSE), and Total Sum of Squares (SST) using MATLAB. "
   ]
  },
  {
   "cell_type": "code",
   "execution_count": 5,
   "metadata": {},
   "outputs": [
    {
     "name": "stdout",
     "output_type": "stream",
     "text": [
      "                            OLS Regression Results                            \n",
      "==============================================================================\n",
      "Dep. Variable:               cpu_time   R-squared:                       0.971\n",
      "Model:                            OLS   Adj. R-squared:                  0.966\n",
      "Method:                 Least Squares   F-statistic:                     170.3\n",
      "Date:                Wed, 31 Oct 2018   Prob (F-statistic):           4.72e-05\n",
      "Time:                        19:33:10   Log-Likelihood:                -9.3157\n",
      "No. Observations:                   7   AIC:                             22.63\n",
      "Df Residuals:                       5   BIC:                             22.52\n",
      "Df Model:                           1                                         \n",
      "Covariance Type:            nonrobust                                         \n",
      "==============================================================================\n",
      "                 coef    std err          t      P>|t|      [0.025      0.975]\n",
      "------------------------------------------------------------------------------\n",
      "Intercept     -0.0083      0.831     -0.010      0.992      -2.145       2.128\n",
      "disk_io        0.2438      0.019     13.048      0.000       0.196       0.292\n",
      "==============================================================================\n",
      "Omnibus:                          nan   Durbin-Watson:                   2.336\n",
      "Prob(Omnibus):                    nan   Jarque-Bera (JB):                0.770\n",
      "Skew:                          -0.469   Prob(JB):                        0.680\n",
      "Kurtosis:                       1.673   Cond. No.                         90.3\n",
      "==============================================================================\n",
      "\n",
      "Warnings:\n",
      "[1] Standard Errors assume that the covariance matrix of the errors is correctly specified.\n"
     ]
    },
    {
     "name": "stderr",
     "output_type": "stream",
     "text": [
      "/Users/misenhour/anaconda3/lib/python3.7/site-packages/statsmodels/stats/stattools.py:72: ValueWarning: omni_normtest is not valid with less than 8 observations; 7 samples were given.\n",
      "  \"samples were given.\" % int(n), ValueWarning)\n"
     ]
    }
   ],
   "source": [
    "# Set up the DataFrame for the Processing Time Example\n",
    "df = pd.DataFrame({\n",
    "    'disk_io' : [14,16,27,42,39,50,83],\n",
    "    'cpu_time' : [2,5,7,9,10,13,20]\n",
    "    })\n",
    "\n",
    "# Fit the model\n",
    "# Option 1: Using \"R\" style formulas with pandas dataframes\n",
    "model = smf.ols('cpu_time ~ disk_io', data=df).fit()\n",
    "print(model.summary())"
   ]
  },
  {
   "cell_type": "code",
   "execution_count": 6,
   "metadata": {},
   "outputs": [
    {
     "name": "stdout",
     "output_type": "stream",
     "text": [
      "          Sum of Squares   df  Mean Squares        F\n",
      "Model         199.845402  1.0    199.845402  170.258\n",
      "Residual        5.868884  5.0      1.173777         \n",
      "Total         205.714286  6.0     34.285714         \n"
     ]
    }
   ],
   "source": [
    "# Create ANOVA Table\n",
    "anova_tbl = pd.DataFrame({\n",
    "    'Sum of Squares' : [model.mse_model*model.df_model,\n",
    "                        model.ssr,\n",
    "                        model.mse_model*model.df_model+model.ssr],\n",
    "    'df' : [model.df_model,\n",
    "            model.df_resid,\n",
    "            model.df_model+model.df_resid],\n",
    "    'Mean Squares' : [model.mse_model,\n",
    "                      model.mse_resid,\n",
    "                      model.mse_total],\n",
    "    'F' : [model.mse_model/model.mse_resid, ' ', ' '],\n",
    "    }, columns=['Sum of Squares','df','Mean Squares','F'],\n",
    "       index=['Model','Residual','Total'])\n",
    "\n",
    "# Print the ANOVA Table\n",
    "print(anova_tbl)"
   ]
  },
  {
   "cell_type": "code",
   "execution_count": 7,
   "metadata": {},
   "outputs": [],
   "source": [
    "# Use the F-distribution to compute the p-value\n",
    "\n"
   ]
  },
  {
   "cell_type": "markdown",
   "metadata": {},
   "source": [
    "## Summary\n",
    "\n",
    "This _Jupyter Notebook_ introduced the student to the **F distribution**. It also demonstrated how to use the F distribution to find the critical values given a level of significance $\\alpha$ and how to find p-values corresponding to an **F-test statistic**. Additionally, the script demonstrated how to use an **F-test** to conduct hypothesis tests for a **simple linear regression model**. "
   ]
  },
  {
   "cell_type": "code",
   "execution_count": null,
   "metadata": {},
   "outputs": [],
   "source": []
  }
 ],
 "metadata": {
  "kernelspec": {
   "display_name": "Python 3",
   "language": "python",
   "name": "python3"
  },
  "language_info": {
   "codemirror_mode": {
    "name": "ipython",
    "version": 3
   },
   "file_extension": ".py",
   "mimetype": "text/x-python",
   "name": "python",
   "nbconvert_exporter": "python",
   "pygments_lexer": "ipython3",
   "version": "3.7.0"
  }
 },
 "nbformat": 4,
 "nbformat_minor": 2
}
